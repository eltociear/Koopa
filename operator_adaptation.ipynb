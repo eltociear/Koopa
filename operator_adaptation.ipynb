{
 "cells": [
  {
   "cell_type": "code",
   "execution_count": 1,
   "id": "21312398-bbbf-4f49-b51d-d7324f387084",
   "metadata": {},
   "outputs": [],
   "source": [
    "import time\n",
    "import torch\n",
    "\n",
    "\n",
    "class Timer(object):\n",
    "    def __enter__(self):\n",
    "        self.t0 = time.time()\n",
    "\n",
    "    def __exit__(self, exc_type, exc_val, exc_tb):\n",
    "        print('[time spent: {time:.2f}s]'.format(time = time.time() - self.t0))"
   ]
  },
  {
   "cell_type": "code",
   "execution_count": 2,
   "id": "ceb20791-33ce-496e-b5fb-2851b28ecdc3",
   "metadata": {},
   "outputs": [],
   "source": [
    "def operator_adaptation(Z, incoming_list):\n",
    "    B, G, D = incoming_list.shape\n",
    "    Zp, Zf = Z[:, :-1], Z[:, 1:]\n",
    "    # the same as torch.linalg.pinv(Zp) @ Zf\n",
    "    K = torch.linalg.lstsq(Zp, Zf).solution \n",
    "    n, pred_list = Z[:, -1:], [Z[:, -1:] @ K]\n",
    "    # K_list = [K]\n",
    "\n",
    "    for i in range(G):\n",
    "        m, n = n, incoming_list[:, i].unsqueeze(1)\n",
    "        Zp = torch.cat((Zp, m), dim=1)\n",
    "        Zf = torch.cat((Zf, n), dim=1)\n",
    "        K = torch.linalg.lstsq(Zp, Zf).solution\n",
    "        pred_list.append(n @ K)\n",
    "        # K_list.append(K)\n",
    "        \n",
    "    return torch.concat(pred_list, dim=1) # ,torch.stack(K_list, dim=0)"
   ]
  },
  {
   "cell_type": "code",
   "execution_count": 3,
   "id": "3e470c37-39a0-4d48-a3d4-54707755539f",
   "metadata": {},
   "outputs": [],
   "source": [
    "def operator_adaptation_accelerate(Z, incoming_list):\n",
    "    B, G, D = incoming_list.shape\n",
    "    Zp, Zf = Z[:, :-1], Z[:, 1:]\n",
    "    Zp_inv = torch.linalg.pinv(Zp)\n",
    "    K = Zp_inv @ Zf\n",
    "    X = Zp_inv @ Zp\n",
    "    n, pred_list = Z[:, -1:], [Z[:, -1:] @ K]\n",
    "    # K_list = [K]\n",
    "\n",
    "    for i in range(G):\n",
    "        m, n = n, incoming_list[:, i].unsqueeze(1)\n",
    "        mt = m.transpose(1, 2)\n",
    "        r = mt - X.transpose(1, 2) @ mt\n",
    "        b = r / r.square().sum(dim=1, keepdim=True)\n",
    "        K = K - b @ (m @ K - n)\n",
    "        X = X - b @ (m @ X - m)\n",
    "        pred_list.append(n @ K)\n",
    "        # K_list.append(K)\n",
    "        \n",
    "    return torch.concat(pred_list, dim=1) # ,torch.stack(K_list, dim=0)"
   ]
  },
  {
   "cell_type": "code",
   "execution_count": 4,
   "id": "97c3484b-2a53-4432-b83c-676fe44ca9ca",
   "metadata": {},
   "outputs": [],
   "source": [
    "B = 64\n",
    "F = 10\n",
    "D = 1024\n",
    "G = 10\n",
    "\n",
    "Z = torch.randn(B, F, D)\n",
    "incoming_list = torch.randn(B, G, D)"
   ]
  },
  {
   "cell_type": "code",
   "execution_count": 5,
   "id": "6bece2d8-9ca5-4369-9dff-ed268dfc76c7",
   "metadata": {},
   "outputs": [
    {
     "name": "stdout",
     "output_type": "stream",
     "text": [
      "[time spent: 6.12s]\n"
     ]
    }
   ],
   "source": [
    "with Timer():\n",
    "    pred1 = operator_adaptation(Z, incoming_list)"
   ]
  },
  {
   "cell_type": "code",
   "execution_count": 6,
   "id": "6529d371",
   "metadata": {},
   "outputs": [
    {
     "data": {
      "text/plain": [
       "torch.Size([64, 11, 1024])"
      ]
     },
     "execution_count": 6,
     "metadata": {},
     "output_type": "execute_result"
    }
   ],
   "source": [
    "pred1.shape"
   ]
  },
  {
   "cell_type": "code",
   "execution_count": 7,
   "id": "f2683a1e-6cb3-4dc9-a337-aed85abd1b42",
   "metadata": {},
   "outputs": [
    {
     "name": "stdout",
     "output_type": "stream",
     "text": [
      "[time spent: 2.89s]\n"
     ]
    }
   ],
   "source": [
    "with Timer():\n",
    "    pred2 = operator_adaptation_accelerate(Z, incoming_list)"
   ]
  },
  {
   "cell_type": "code",
   "execution_count": 8,
   "id": "feb231c6-adc0-40b9-bc4d-ed6a0cae667a",
   "metadata": {},
   "outputs": [
    {
     "data": {
      "text/plain": [
       "tensor(0.0001)"
      ]
     },
     "execution_count": 8,
     "metadata": {},
     "output_type": "execute_result"
    }
   ],
   "source": [
    "(pred1-pred2).norm()"
   ]
  },
  {
   "cell_type": "code",
   "execution_count": 11,
   "id": "44c315e0-2eee-49d0-bfcc-705415401ebd",
   "metadata": {},
   "outputs": [],
   "source": [
    "assert torch.norm(pred1-pred2) < 1e-3"
   ]
  },
  {
   "cell_type": "code",
   "execution_count": null,
   "id": "4a4397c6",
   "metadata": {},
   "outputs": [],
   "source": []
  }
 ],
 "metadata": {
  "kernelspec": {
   "display_name": "Python 3 (ipykernel)",
   "language": "python",
   "name": "python3"
  },
  "language_info": {
   "codemirror_mode": {
    "name": "ipython",
    "version": 3
   },
   "file_extension": ".py",
   "mimetype": "text/x-python",
   "name": "python",
   "nbconvert_exporter": "python",
   "pygments_lexer": "ipython3",
   "version": "3.7.11"
  }
 },
 "nbformat": 4,
 "nbformat_minor": 5
}
